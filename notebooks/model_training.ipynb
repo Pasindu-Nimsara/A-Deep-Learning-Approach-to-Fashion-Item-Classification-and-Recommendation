{
 "cells": [
  {
   "cell_type": "code",
   "execution_count": 28,
   "id": "349f3562-3ef3-476f-bd9e-035cd116e25e",
   "metadata": {},
   "outputs": [],
   "source": [
    "# Import necessary libraries\n",
    "import numpy as np\n",
    "import os\n",
    "from tensorflow.keras.models import Model\n",
    "from tensorflow.keras.layers import Input, Conv2D, MaxPooling2D, Flatten, Dense, BatchNormalization, Add, ReLU, GlobalAveragePooling2D\n",
    "from tensorflow.keras.utils import to_categorical\n",
    "from tensorflow.keras.datasets import fashion_mnist\n",
    "from tensorflow.keras.optimizers import Adam"
   ]
  },
  {
   "cell_type": "code",
   "execution_count": 29,
   "id": "3e0a8f05-b6cd-41bb-8cb9-9608f8a13556",
   "metadata": {},
   "outputs": [],
   "source": [
    "# Load the Fashion MNIST dataset\n",
    "(X_train, y_train), (X_test, y_test) = fashion_mnist.load_data()\n"
   ]
  },
  {
   "cell_type": "code",
   "execution_count": 30,
   "id": "652d596e-1f85-47cd-9d0f-4360e37642f4",
   "metadata": {},
   "outputs": [],
   "source": [
    "# Reshape the data to have 1 channel (grayscale)\n",
    "X_train = X_train.reshape(-1, 28, 28, 1)\n",
    "X_test = X_test.reshape(-1, 28, 28, 1)"
   ]
  },
  {
   "cell_type": "code",
   "execution_count": 31,
   "id": "3fbae174-b651-4044-bcf3-0c4df9514327",
   "metadata": {},
   "outputs": [],
   "source": [
    "# Normalize the data to [0, 1]\n",
    "X_train = X_train.astype('float32') / 255\n",
    "X_test = X_test.astype('float32') / 255"
   ]
  },
  {
   "cell_type": "code",
   "execution_count": 32,
   "id": "83dc01c6-f11f-49bb-b2b5-9abcbf87608b",
   "metadata": {},
   "outputs": [],
   "source": [
    "# One-hot encode the labels\n",
    "y_train = to_categorical(y_train, 10)\n",
    "y_test = to_categorical(y_test, 10)"
   ]
  },
  {
   "cell_type": "code",
   "execution_count": 33,
   "id": "50d90454-bd1a-4a96-9ff2-45b7aac200cc",
   "metadata": {},
   "outputs": [
    {
     "name": "stdout",
     "output_type": "stream",
     "text": [
      "Training data shape: (60000, 28, 28, 1)\n",
      "Training labels shape: (60000, 10)\n",
      "Test data shape: (10000, 28, 28, 1)\n",
      "Test labels shape: (10000, 10)\n"
     ]
    }
   ],
   "source": [
    "# Verify the shapes of the data\n",
    "print(\"Training data shape:\", X_train.shape)  # Should be (60000, 28, 28, 1)\n",
    "print(\"Training labels shape:\", y_train.shape)  # Should be (60000, 10)\n",
    "print(\"Test data shape:\", X_test.shape)  # Should be (10000, 28, 28, 1)\n",
    "print(\"Test labels shape:\", y_test.shape)  # Should be (10000, 10)"
   ]
  },
  {
   "cell_type": "code",
   "execution_count": 36,
   "id": "93a10e82-1a21-4b16-9a0d-e9f38033f04b",
   "metadata": {},
   "outputs": [],
   "source": [
    "# Function to build a residual block\n",
    "def residual_block(x, filters, kernel_size=3, stride=1):\n",
    "    # Shortcut connection\n",
    "    shortcut = x\n",
    "    \n",
    "    # Main path\n",
    "    x = Conv2D(filters, kernel_size=kernel_size, strides=stride, padding='same')(x)\n",
    "    x = BatchNormalization()(x)\n",
    "    x = ReLU()(x)\n",
    "    \n",
    "    x = Conv2D(filters, kernel_size=kernel_size, strides=1, padding='same')(x)\n",
    "    x = BatchNormalization()(x)\n",
    "    \n",
    "    # If shape mismatch, use a convolution to match the dimensions\n",
    "    if stride != 1:\n",
    "        shortcut = Conv2D(filters, kernel_size=1, strides=stride, padding='same')(shortcut)\n",
    "        shortcut = BatchNormalization()(shortcut)\n",
    "    \n",
    "    # Add the shortcut (residual connection)\n",
    "    x = Add()([x, shortcut])\n",
    "    x = ReLU()(x)\n",
    "    \n",
    "    return x"
   ]
  },
  {
   "cell_type": "code",
   "execution_count": 37,
   "id": "db7aa32d-102c-49d5-a872-e5459801c382",
   "metadata": {},
   "outputs": [],
   "source": [
    "# Build a ResNet-inspired model\n",
    "def build_resnet(input_shape):\n",
    "    inputs = Input(shape=input_shape)\n",
    "\n",
    "    # Initial convolutional layer\n",
    "    x = Conv2D(64, (3, 3), strides=1, padding='same')(inputs)\n",
    "    x = BatchNormalization()(x)\n",
    "    x = ReLU()(x)\n",
    "    \n",
    "    # Add residual blocks\n",
    "    x = residual_block(x, 64, stride=1)\n",
    "    x = residual_block(x, 64, stride=2)\n",
    "    \n",
    "    x = residual_block(x, 128, stride=2)\n",
    "    x = residual_block(x, 128, stride=1)\n",
    "    \n",
    "    # Global Average Pooling\n",
    "    x = GlobalAveragePooling2D()(x)\n",
    "    \n",
    "    # Fully connected layer for classification\n",
    "    outputs = Dense(10, activation='softmax')(x)\n",
    "    \n",
    "    # Define the model\n",
    "    model = Model(inputs=inputs, outputs=outputs)\n",
    "    return model"
   ]
  },
  {
   "cell_type": "code",
   "execution_count": 38,
   "id": "0e207bf0-96b6-44d7-9fe4-3a98cc9d05a9",
   "metadata": {},
   "outputs": [],
   "source": [
    "# Instantiate the ResNet model\n",
    "model = build_resnet((28, 28, 1))"
   ]
  },
  {
   "cell_type": "code",
   "execution_count": 39,
   "id": "9e7053e1-7fb1-463a-81d3-428720289a67",
   "metadata": {},
   "outputs": [],
   "source": [
    "# Compile the model\n",
    "model.compile(optimizer=Adam(), loss='categorical_crossentropy', metrics=['accuracy'])\n"
   ]
  },
  {
   "cell_type": "code",
   "execution_count": 40,
   "id": "49b54355-45ce-4966-8f02-4884ab8af683",
   "metadata": {},
   "outputs": [
    {
     "name": "stdout",
     "output_type": "stream",
     "text": [
      "Epoch 1/10\n",
      "1500/1500 [==============================] - 265s 175ms/step - loss: 0.4383 - accuracy: 0.8408 - val_loss: 0.3384 - val_accuracy: 0.8773\n",
      "Epoch 2/10\n",
      "1500/1500 [==============================] - 264s 176ms/step - loss: 0.2807 - accuracy: 0.8970 - val_loss: 0.2598 - val_accuracy: 0.9097\n",
      "Epoch 3/10\n",
      "1500/1500 [==============================] - 263s 176ms/step - loss: 0.2327 - accuracy: 0.9160 - val_loss: 0.2505 - val_accuracy: 0.9107\n",
      "Epoch 4/10\n",
      "1500/1500 [==============================] - 289s 193ms/step - loss: 0.2029 - accuracy: 0.9258 - val_loss: 0.2734 - val_accuracy: 0.9044\n",
      "Epoch 5/10\n",
      "1500/1500 [==============================] - 285s 190ms/step - loss: 0.1758 - accuracy: 0.9359 - val_loss: 0.3209 - val_accuracy: 0.8856\n",
      "Epoch 6/10\n",
      "1500/1500 [==============================] - 291s 194ms/step - loss: 0.1534 - accuracy: 0.9444 - val_loss: 0.3170 - val_accuracy: 0.8951\n",
      "Epoch 7/10\n",
      "1500/1500 [==============================] - 351s 234ms/step - loss: 0.1310 - accuracy: 0.9520 - val_loss: 0.2246 - val_accuracy: 0.9252\n",
      "Epoch 8/10\n",
      "1500/1500 [==============================] - 424s 283ms/step - loss: 0.1094 - accuracy: 0.9599 - val_loss: 0.2887 - val_accuracy: 0.9085\n",
      "Epoch 9/10\n",
      "1500/1500 [==============================] - 653s 435ms/step - loss: 0.0882 - accuracy: 0.9677 - val_loss: 0.2539 - val_accuracy: 0.9181\n",
      "Epoch 10/10\n",
      "1500/1500 [==============================] - 663s 442ms/step - loss: 0.0727 - accuracy: 0.9734 - val_loss: 0.2468 - val_accuracy: 0.9277\n"
     ]
    }
   ],
   "source": [
    "# Train the model\n",
    "history = model.fit(X_train, y_train, epochs=10, validation_split=0.2, batch_size=32)\n"
   ]
  },
  {
   "cell_type": "code",
   "execution_count": 41,
   "id": "33d01ead-baee-4ed9-8059-d6974fffcc83",
   "metadata": {},
   "outputs": [
    {
     "name": "stdout",
     "output_type": "stream",
     "text": [
      "313/313 [==============================] - 14s 44ms/step - loss: 0.2700 - accuracy: 0.9246\n",
      "Test loss: 0.2699919044971466, Test accuracy: 0.9246000051498413\n"
     ]
    }
   ],
   "source": [
    "# Evaluate the model on the test set\n",
    "test_loss, test_accuracy = model.evaluate(X_test, y_test)\n",
    "print(f'Test loss: {test_loss}, Test accuracy: {test_accuracy}')"
   ]
  },
  {
   "cell_type": "code",
   "execution_count": 43,
   "id": "2092f6d5-7720-4d0b-b850-fda0c2c69f33",
   "metadata": {},
   "outputs": [],
   "source": [
    "# Save the model\n",
    "model.save('fashion_mnist_resnet_model.keras')"
   ]
  },
  {
   "cell_type": "code",
   "execution_count": 44,
   "id": "5378c89f-3eb9-41f2-9bbf-91502c8fce12",
   "metadata": {},
   "outputs": [],
   "source": [
    "# Save the training history\n",
    "np.save('resnet_model_history.npy', history.history)"
   ]
  },
  {
   "cell_type": "code",
   "execution_count": 48,
   "id": "28c5498c-d9d8-457f-9baf-e56bce46d0d8",
   "metadata": {},
   "outputs": [],
   "source": [
    "model_dir = 'models'\n",
    "os.makedirs(model_dir, exist_ok=True)"
   ]
  },
  {
   "cell_type": "code",
   "execution_count": 49,
   "id": "15ec13e9-7482-4c78-87ea-1686ac5a2ff5",
   "metadata": {},
   "outputs": [],
   "source": [
    "# Save the model in the specified folder\n",
    "model.save(os.path.join(model_dir, 'fashion_mnist_resnet_model.keras'))"
   ]
  },
  {
   "cell_type": "code",
   "execution_count": 50,
   "id": "8a905ad5-e378-4842-bd65-88588c255b2e",
   "metadata": {},
   "outputs": [],
   "source": [
    "# Save the training history in the specified folder\n",
    "np.save(os.path.join(model_dir, 'resnet_model_history.npy'), history.history)"
   ]
  }
 ],
 "metadata": {
  "kernelspec": {
   "display_name": "Python 3 (ipykernel)",
   "language": "python",
   "name": "python3"
  },
  "language_info": {
   "codemirror_mode": {
    "name": "ipython",
    "version": 3
   },
   "file_extension": ".py",
   "mimetype": "text/x-python",
   "name": "python",
   "nbconvert_exporter": "python",
   "pygments_lexer": "ipython3",
   "version": "3.8.10"
  }
 },
 "nbformat": 4,
 "nbformat_minor": 5
}
