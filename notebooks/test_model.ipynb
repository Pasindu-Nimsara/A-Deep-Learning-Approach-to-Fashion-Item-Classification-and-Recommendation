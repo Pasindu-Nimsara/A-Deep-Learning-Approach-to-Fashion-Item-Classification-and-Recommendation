{
 "cells": [
  {
   "cell_type": "code",
   "execution_count": 36,
   "id": "43dd7f41-e31e-4b64-a45c-0faeddadc478",
   "metadata": {},
   "outputs": [],
   "source": [
    "import numpy as np\n",
    "import tensorflow as tf\n",
    "from tensorflow.keras.models import load_model\n",
    "from tensorflow.keras.preprocessing import image\n",
    "import matplotlib.pyplot as plt"
   ]
  },
  {
   "cell_type": "code",
   "execution_count": 37,
   "id": "bb84f54c-5e8c-4561-95f6-d560035f1ece",
   "metadata": {},
   "outputs": [],
   "source": [
    "model = load_model('C:/Users/Pasindu/Desktop/DL_Assignemt/A-Deep-Learning-Approach-to-Fashion-Item-Classification-and-Recommendation/models/fashion_mnist_resnet_model.keras')"
   ]
  },
  {
   "cell_type": "code",
   "execution_count": 38,
   "id": "7abf76aa-3ab9-4b55-bf4c-5dc8bd5026b6",
   "metadata": {},
   "outputs": [],
   "source": [
    "# Define the class labels (modify these based on your dataset's labels)\n",
    "class_labels = ['T-shirt/top', 'Trouser', 'Pullover', 'Dress', 'Coat', \n",
    "                'Sandal', 'Shirt', 'Sneaker', 'Bag', 'Ankle boot']"
   ]
  },
  {
   "cell_type": "code",
   "execution_count": 39,
   "id": "74bcb395-e21e-4eec-827c-cc16d4a76b33",
   "metadata": {},
   "outputs": [],
   "source": [
    "# Function to preprocess the image to match model input requirements\n",
    "def preprocess_image(img_path):\n",
    "    img = image.load_img(img_path, target_size=(28, 28), color_mode='grayscale')  # Resize to 28x28\n",
    "    img_array = image.img_to_array(img)  # Convert to array\n",
    "    img_array = img_array / 255.0  # Normalize pixel values\n",
    "    img_array = np.expand_dims(img_array, axis=0)  # Add batch dimension (1, 28, 28, 1)\n",
    "    return img_array"
   ]
  },
  {
   "cell_type": "code",
   "execution_count": 40,
   "id": "b1aeae14-c6dd-42fb-8dbb-5a5dd866d8bc",
   "metadata": {},
   "outputs": [],
   "source": [
    "# Upload and preprocess the image\n",
    "img_path = 'C:/Users/Pasindu/Desktop/DL_Assignemt/A-Deep-Learning-Approach-to-Fashion-Item-Classification-and-Recommendation/images/trouser.jpg'  # Update this to the path of your uploaded image\n",
    "processed_img = preprocess_image(img_path)"
   ]
  },
  {
   "cell_type": "code",
   "execution_count": 41,
   "id": "6798aa62-7310-48c4-a80e-872a22c358b4",
   "metadata": {},
   "outputs": [
    {
     "name": "stdout",
     "output_type": "stream",
     "text": [
      "1/1 [==============================] - 1s 610ms/step\n"
     ]
    }
   ],
   "source": [
    "# Make prediction\n",
    "predictions = model.predict(processed_img)\n",
    "predicted_class = np.argmax(predictions[0])"
   ]
  },
  {
   "cell_type": "code",
   "execution_count": 42,
   "id": "46bac410-5c4e-4ceb-aa17-cb6f5e66288d",
   "metadata": {},
   "outputs": [
    {
     "data": {
      "image/png": "[encoded data removed]",
      "text/plain": [
       "<Figure size 640x480 with 1 Axes>"
      ]
     },
     "metadata": {},
     "output_type": "display_data"
    }
   ],
   "source": [
    "# Display the image and prediction result\n",
    "plt.imshow(image.load_img(img_path, target_size=(28, 28), color_mode='grayscale'), cmap='gray')\n",
    "plt.title(f'Predicted: {class_labels[predicted_class]}')\n",
    "plt.axis('off')\n",
    "plt.show()"
   ]
  },
  {
   "cell_type": "code",
   "execution_count": 43,
   "id": "7031b609-8cd2-40a9-8f0c-1064b8b74a08",
   "metadata": {},
   "outputs": [
    {
     "name": "stdout",
     "output_type": "stream",
     "text": [
      "This image is predicted to be: Bag\n"
     ]
    }
   ],
   "source": [
    "print(f'This image is predicted to be: {class_labels[predicted_class]}')"
   ]
  },
  {
   "cell_type": "code",
   "execution_count": null,
   "id": "cf0ea43f-d607-42b4-90d7-c8bfbd99670c",
   "metadata": {},
   "outputs": [],
   "source": []
  }
 ],
 "metadata": {
  "kernelspec": {
   "display_name": "Python 3 (ipykernel)",
   "language": "python",
   "name": "python3"
  },
  "language_info": {
   "codemirror_mode": {
    "name": "ipython",
    "version": 3
   },
   "file_extension": ".py",
   "mimetype": "text/x-python",
   "name": "python",
   "nbconvert_exporter": "python",
   "pygments_lexer": "ipython3",
   "version": "3.8.10"
  }
 },
 "nbformat": 4,
 "nbformat_minor": 5
}
